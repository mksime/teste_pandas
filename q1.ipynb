{
 "cells": [
  {
   "cell_type": "markdown",
   "metadata": {},
   "source": [
    "1. Qual profissão tem mais tendência a fazer um empréstimo? De qual tipo?"
   ]
  },
  {
   "cell_type": "code",
   "execution_count": 2,
   "metadata": {},
   "outputs": [],
   "source": [
    "import pandas as pd\n",
    "dataset_total = pd.read_csv('bank-full.csv', sep = ';')"
   ]
  },
  {
   "cell_type": "markdown",
   "metadata": {},
   "source": [
    "Aqui verificamos a quantidade total e percentual de empréstimos imobiliários para cada profissão."
   ]
  },
  {
   "cell_type": "code",
   "execution_count": 9,
   "metadata": {
    "scrolled": false
   },
   "outputs": [
    {
     "name": "stdout",
     "output_type": "stream",
     "text": [
      "job            housing\n",
      "admin.         no         1989\n",
      "               yes        3182\n",
      "blue-collar    no         2684\n",
      "               yes        7048\n",
      "entrepreneur   no          618\n",
      "               yes         869\n",
      "housemaid      no          842\n",
      "               yes         398\n",
      "management     no         4780\n",
      "               yes        4678\n",
      "retired        no         1773\n",
      "               yes         491\n",
      "self-employed  no          814\n",
      "               yes         765\n",
      "services       no         1388\n",
      "               yes        2766\n",
      "student        no          689\n",
      "               yes         249\n",
      "technician     no         3482\n",
      "               yes        4115\n",
      "unemployed     no          760\n",
      "               yes         543\n",
      "unknown        no          262\n",
      "               yes          26\n",
      "dtype: int64\n",
      "job            housing\n",
      "admin.         no         38.464514\n",
      "               yes        61.535486\n",
      "blue-collar    no         27.579120\n",
      "               yes        72.420880\n",
      "entrepreneur   no         41.560188\n",
      "               yes        58.439812\n",
      "housemaid      no         67.903226\n",
      "               yes        32.096774\n",
      "management     no         50.539226\n",
      "               yes        49.460774\n",
      "retired        no         78.312721\n",
      "               yes        21.687279\n",
      "self-employed  no         51.551615\n",
      "               yes        48.448385\n",
      "services       no         33.413577\n",
      "               yes        66.586423\n",
      "student        no         73.454158\n",
      "               yes        26.545842\n",
      "technician     no         45.833882\n",
      "               yes        54.166118\n",
      "unemployed     no         58.326938\n",
      "               yes        41.673062\n",
      "unknown        no         90.972222\n",
      "               yes         9.027778\n",
      "dtype: float64\n"
     ]
    }
   ],
   "source": [
    "dataset_housing = dataset_total.groupby(['job', 'housing']).size()\n",
    "datahousing = dataset_housing.groupby(level = 0).apply(lambda x: x * 100 / float(x.sum()))\n",
    "print(dataset_housing)\n",
    "print(datahousing)"
   ]
  },
  {
   "cell_type": "markdown",
   "metadata": {},
   "source": [
    "E aqui fazemos o mesmo para o caso de empréstimos pessoais."
   ]
  },
  {
   "cell_type": "code",
   "execution_count": 11,
   "metadata": {
    "scrolled": false
   },
   "outputs": [
    {
     "name": "stdout",
     "output_type": "stream",
     "text": [
      "job            loan\n",
      "admin.         no      4180\n",
      "               yes      991\n",
      "blue-collar    no      8048\n",
      "               yes     1684\n",
      "entrepreneur   no      1131\n",
      "               yes      356\n",
      "housemaid      no      1088\n",
      "               yes      152\n",
      "management     no      8205\n",
      "               yes     1253\n",
      "retired        no      1955\n",
      "               yes      309\n",
      "self-employed  no      1350\n",
      "               yes      229\n",
      "services       no      3318\n",
      "               yes      836\n",
      "student        no       926\n",
      "               yes       12\n",
      "technician     no      6288\n",
      "               yes     1309\n",
      "unemployed     no      1194\n",
      "               yes      109\n",
      "unknown        no       284\n",
      "               yes        4\n",
      "dtype: int64\n",
      "job            loan\n",
      "admin.         no      80.835428\n",
      "               yes     19.164572\n",
      "blue-collar    no      82.696260\n",
      "               yes     17.303740\n",
      "entrepreneur   no      76.059180\n",
      "               yes     23.940820\n",
      "housemaid      no      87.741935\n",
      "               yes     12.258065\n",
      "management     no      86.751956\n",
      "               yes     13.248044\n",
      "retired        no      86.351590\n",
      "               yes     13.648410\n",
      "self-employed  no      85.497150\n",
      "               yes     14.502850\n",
      "services       no      79.874819\n",
      "               yes     20.125181\n",
      "student        no      98.720682\n",
      "               yes      1.279318\n",
      "technician     no      82.769514\n",
      "               yes     17.230486\n",
      "unemployed     no      91.634689\n",
      "               yes      8.365311\n",
      "unknown        no      98.611111\n",
      "               yes      1.388889\n",
      "dtype: float64\n"
     ]
    }
   ],
   "source": [
    "dataset_loan = dataset_total.groupby(['job', 'loan']).size()\n",
    "dataloan = dataset_loan.groupby(level = 0).apply(lambda x: x * 100 / float(x.sum()))\n",
    "print(dataset_loan)\n",
    "print(dataloan)"
   ]
  },
  {
   "cell_type": "markdown",
   "metadata": {},
   "source": [
    "Assim, podemos ver que os profissionais menos qualificados (blue-collar) são os mais propensos a fazer empréstimos imobiliários, já que 72,42% deles faz esse tipo de empréstimo, sendo a maior porcentagem dentre cada profissão. Já para empréstimos pessoais, a maior porcentagem de profissionais que realizam essa modalidade de empréstimo se encontra entre os empreendedores, com 23,94%."
   ]
  }
 ],
 "metadata": {
  "kernelspec": {
   "display_name": "Python 3",
   "language": "python",
   "name": "python3"
  },
  "language_info": {
   "codemirror_mode": {
    "name": "ipython",
    "version": 3
   },
   "file_extension": ".py",
   "mimetype": "text/x-python",
   "name": "python",
   "nbconvert_exporter": "python",
   "pygments_lexer": "ipython3",
   "version": "3.6.4"
  }
 },
 "nbformat": 4,
 "nbformat_minor": 2
}
