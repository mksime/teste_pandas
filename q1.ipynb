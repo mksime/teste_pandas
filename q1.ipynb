{
 "cells": [
  {
   "cell_type": "markdown",
   "metadata": {},
   "source": [
    "Qual profissão tem mais tendência a fazer um empréstimo? De qual tipo?"
   ]
  },
  {
   "cell_type": "code",
   "execution_count": 24,
   "metadata": {},
   "outputs": [],
   "source": [
    "import pandas as pd\n",
    "dataset_total = pd.read_csv('bank-full.csv', sep = ';')"
   ]
  },
  {
   "cell_type": "markdown",
   "metadata": {},
   "source": [
    "É preciso verificar a quantidade de pessoas que fez empréstimo em pelo menos uma das modalidades, pra cada profissão. Para isso, determinamos a quantidade de pessoas que fizeram empréstimo em pelo menos um dos modos (dataset_yes) e comparamos com o total de pessoas, as que fizeram empréstimo e as que não fizeram (dataset_yes + dataset_no):"
   ]
  },
  {
   "cell_type": "code",
   "execution_count": 25,
   "metadata": {},
   "outputs": [],
   "source": [
    "dataset_yes = dataset_total[(dataset_total.housing == 'yes') | (dataset_total.loan == 'yes')].groupby(['job']).size()\n",
    "dataset_no = dataset_total[(dataset_total.housing == 'no') & (dataset_total.loan == 'no')].groupby(['job']).size()"
   ]
  },
  {
   "cell_type": "markdown",
   "metadata": {},
   "source": [
    "A partir desses dados, é possível determinar a porcentagem de pessoas que fizeram algum tipo de empréstimo para cada profissão (pct_yes):"
   ]
  },
  {
   "cell_type": "code",
   "execution_count": 26,
   "metadata": {},
   "outputs": [
    {
     "name": "stdout",
     "output_type": "stream",
     "text": [
      "job\n",
      "admin.           69.019532\n",
      "blue-collar      78.082614\n",
      "entrepreneur     68.325488\n",
      "housemaid        39.516129\n",
      "management       55.244238\n",
      "retired          30.874558\n",
      "self-employed    54.718176\n",
      "services         73.736158\n",
      "student          27.398721\n",
      "technician       60.655522\n",
      "unemployed       45.203377\n",
      "unknown           9.722222\n",
      "dtype: float64\n"
     ]
    }
   ],
   "source": [
    "pct_yes = dataset_yes * 100 / (dataset_yes + dataset_no)\n",
    "print(pct_yes)"
   ]
  },
  {
   "cell_type": "markdown",
   "metadata": {},
   "source": [
    "Com esse resultado, é possível perceber que a profissão com maior porcentagem de pessoas que fizeram algum tipo de empréstimo é a de profissionais menos qualificados (blue-collar), com 78,08%. Para determinar qual é o tipo de empréstimo mais realizado, é preciso separar a quantidade de pessoas que fizeram somente empréstimo imobiliário(dataset_housing), a de pessoas que fizeram somente empréstimo pessoal (dataset_loan) e a de pessoas que fizeram os dois tipos de empréstimo(dataset_ambos)."
   ]
  },
  {
   "cell_type": "code",
   "execution_count": 27,
   "metadata": {},
   "outputs": [],
   "source": [
    "dataset_housing = dataset_total[(dataset_total.housing == 'yes') & (dataset_total.loan == 'no') & (dataset_total.job == 'blue-collar')].groupby(['job']).size()\n",
    "dataset_loan = dataset_total[(dataset_total.housing == 'no') & (dataset_total.loan == 'yes') & (dataset_total.job == 'blue-collar')].groupby(['job']).size()\n",
    "dataset_ambos = dataset_total[(dataset_total.housing == 'yes') & (dataset_total.loan == 'yes') & (dataset_total.job == 'blue-collar')].groupby(['job']).size()"
   ]
  },
  {
   "cell_type": "code",
   "execution_count": 28,
   "metadata": {},
   "outputs": [
    {
     "name": "stdout",
     "output_type": "stream",
     "text": [
      "           job  housing\n",
      "0  blue-collar     5915\n",
      "           job  loan\n",
      "0  blue-collar   551\n",
      "           job  ambos\n",
      "0  blue-collar   1133\n"
     ]
    }
   ],
   "source": [
    "print(dataset_housing.reset_index(name = 'housing'))\n",
    "print(dataset_loan.reset_index(name = 'loan'))\n",
    "print(dataset_ambos.reset_index(name = 'ambos'))"
   ]
  },
  {
   "cell_type": "markdown",
   "metadata": {},
   "source": [
    "Com esses dados, é possível calcular suas respectivas porcentagens (pct_housing, pct_loan, pct_ambos):"
   ]
  },
  {
   "cell_type": "code",
   "execution_count": 29,
   "metadata": {},
   "outputs": [],
   "source": [
    "pct_housing = dataset_housing * 100 / (dataset_housing + dataset_loan + dataset_ambos)\n",
    "pct_loan = dataset_loan * 100 / (dataset_housing + dataset_loan + dataset_ambos)\n",
    "pct_ambos = dataset_ambos * 100 / (dataset_housing + dataset_loan + dataset_ambos)"
   ]
  },
  {
   "cell_type": "code",
   "execution_count": 30,
   "metadata": {},
   "outputs": [
    {
     "name": "stdout",
     "output_type": "stream",
     "text": [
      "           job    housing\n",
      "0  blue-collar  77.839189\n",
      "           job      loan\n",
      "0  blue-collar  7.250954\n",
      "           job      ambos\n",
      "0  blue-collar  14.909857\n"
     ]
    }
   ],
   "source": [
    "print(pct_housing.reset_index(name = 'housing'))\n",
    "print(pct_loan.reset_index(name = 'loan'))\n",
    "print(pct_ambos.reset_index(name = 'ambos'))"
   ]
  },
  {
   "cell_type": "markdown",
   "metadata": {},
   "source": [
    "Assim, verficamos que o tipo de empréstimo mais realizado pelos profissionais menos qualificados é o empréstimo imobiliário, com 77,84% de profissionais que fizeram somente esse empréstimo e mais 14,91% que fizeram este tipo de empréstimo, além do empréstimo pessoal."
   ]
  }
 ],
 "metadata": {
  "kernelspec": {
   "display_name": "Python 3",
   "language": "python",
   "name": "python3"
  },
  "language_info": {
   "codemirror_mode": {
    "name": "ipython",
    "version": 3
   },
   "file_extension": ".py",
   "mimetype": "text/x-python",
   "name": "python",
   "nbconvert_exporter": "python",
   "pygments_lexer": "ipython3",
   "version": "3.6.4"
  }
 },
 "nbformat": 4,
 "nbformat_minor": 2
}
