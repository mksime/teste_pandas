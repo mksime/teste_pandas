{
 "cells": [
  {
   "cell_type": "markdown",
   "metadata": {},
   "source": [
    "2. Fazendo uma relação entre número de contatos e sucesso da campanha quais\n",
    "são os pontos relevantes a serem observados?"
   ]
  },
  {
   "cell_type": "code",
   "execution_count": 2,
   "metadata": {},
   "outputs": [],
   "source": [
    "import pandas as pd\n",
    "dataset_total = pd.read_csv('bank-full.csv', sep = ';')"
   ]
  },
  {
   "cell_type": "code",
   "execution_count": 3,
   "metadata": {},
   "outputs": [],
   "source": [
    "datayes = dataset_total[dataset_total.y == 'yes']\n",
    "datano = dataset_total[dataset_total.y == 'no']"
   ]
  },
  {
   "cell_type": "code",
   "execution_count": 4,
   "metadata": {},
   "outputs": [
    {
     "name": "stdout",
     "output_type": "stream",
     "text": [
      "campaign\n",
      "1     0.145976\n",
      "2     0.112035\n",
      "3     0.111936\n",
      "4     0.090006\n",
      "5     0.078798\n",
      "6     0.071263\n",
      "7     0.063946\n",
      "8     0.059259\n",
      "9     0.064220\n",
      "10    0.052632\n",
      "11    0.079602\n",
      "12    0.025806\n",
      "13    0.045113\n",
      "14    0.043011\n",
      "15    0.047619\n",
      "16    0.025316\n",
      "17    0.086957\n",
      "18         NaN\n",
      "19         NaN\n",
      "20    0.023256\n",
      "21    0.028571\n",
      "22         NaN\n",
      "23         NaN\n",
      "24    0.050000\n",
      "25         NaN\n",
      "26         NaN\n",
      "27         NaN\n",
      "28         NaN\n",
      "29    0.062500\n",
      "30         NaN\n",
      "31         NaN\n",
      "32    0.111111\n",
      "33         NaN\n",
      "34         NaN\n",
      "35         NaN\n",
      "36         NaN\n",
      "37         NaN\n",
      "38         NaN\n",
      "39         NaN\n",
      "41         NaN\n",
      "43         NaN\n",
      "44         NaN\n",
      "46         NaN\n",
      "50         NaN\n",
      "51         NaN\n",
      "55         NaN\n",
      "58         NaN\n",
      "63         NaN\n",
      "dtype: float64\n"
     ]
    }
   ],
   "source": [
    "dataset_yes = datayes.groupby(['campaign']).size()\n",
    "dataset_no = datano.groupby(['campaign']).size()\n",
    "pct = dataset_yes / (dataset_yes + dataset_no)\n",
    "print(pct)"
   ]
  },
  {
   "cell_type": "code",
   "execution_count": 11,
   "metadata": {},
   "outputs": [],
   "source": [
    "pct_fill = pct.reset_index(name = 'percentual').fillna(0)"
   ]
  },
  {
   "cell_type": "code",
   "execution_count": 12,
   "metadata": {},
   "outputs": [
    {
     "data": {
      "text/html": [
       "<div>\n",
       "<style scoped>\n",
       "    .dataframe tbody tr th:only-of-type {\n",
       "        vertical-align: middle;\n",
       "    }\n",
       "\n",
       "    .dataframe tbody tr th {\n",
       "        vertical-align: top;\n",
       "    }\n",
       "\n",
       "    .dataframe thead th {\n",
       "        text-align: right;\n",
       "    }\n",
       "</style>\n",
       "<table border=\"1\" class=\"dataframe\">\n",
       "  <thead>\n",
       "    <tr style=\"text-align: right;\">\n",
       "      <th></th>\n",
       "      <th>campaign</th>\n",
       "      <th>percentual</th>\n",
       "    </tr>\n",
       "  </thead>\n",
       "  <tbody>\n",
       "    <tr>\n",
       "      <th>campaign</th>\n",
       "      <td>1.000000</td>\n",
       "      <td>-0.707837</td>\n",
       "    </tr>\n",
       "    <tr>\n",
       "      <th>percentual</th>\n",
       "      <td>-0.707837</td>\n",
       "      <td>1.000000</td>\n",
       "    </tr>\n",
       "  </tbody>\n",
       "</table>\n",
       "</div>"
      ],
      "text/plain": [
       "            campaign  percentual\n",
       "campaign    1.000000   -0.707837\n",
       "percentual -0.707837    1.000000"
      ]
     },
     "execution_count": 12,
     "metadata": {},
     "output_type": "execute_result"
    }
   ],
   "source": [
    "pct_fill.corr('pearson')"
   ]
  },
  {
   "cell_type": "markdown",
   "metadata": {},
   "source": [
    "https://www.ncbi.nlm.nih.gov/pmc/articles/PMC3576830/"
   ]
  }
 ],
 "metadata": {
  "kernelspec": {
   "display_name": "Python 3",
   "language": "python",
   "name": "python3"
  },
  "language_info": {
   "codemirror_mode": {
    "name": "ipython",
    "version": 3
   },
   "file_extension": ".py",
   "mimetype": "text/x-python",
   "name": "python",
   "nbconvert_exporter": "python",
   "pygments_lexer": "ipython3",
   "version": "3.6.4"
  }
 },
 "nbformat": 4,
 "nbformat_minor": 2
}
