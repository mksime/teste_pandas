{
 "cells": [
  {
   "cell_type": "markdown",
   "metadata": {},
   "source": [
    "O resultado da campanha anterior tem relevância na campanha atual?"
   ]
  },
  {
   "cell_type": "code",
   "execution_count": 2,
   "metadata": {},
   "outputs": [],
   "source": [
    "import pandas as pd\n",
    "\n",
    "dataset_total = pd.read_csv('bank-full.csv', sep = ';')"
   ]
  },
  {
   "cell_type": "markdown",
   "metadata": {},
   "source": [
    "Para analisar esse problema, é necessário considerar a quantidade de pessoas que aderiram a campanhas anteriores (poutcome) e verficar quantas aderiram novamente à campanha atual. "
   ]
  },
  {
   "cell_type": "code",
   "execution_count": 28,
   "metadata": {},
   "outputs": [
    {
     "name": "stdout",
     "output_type": "stream",
     "text": [
      "poutcome  y  \n",
      "failure   no      4283\n",
      "          yes      618\n",
      "other     no      1533\n",
      "          yes      307\n",
      "success   no       533\n",
      "          yes      978\n",
      "unknown   no     33573\n",
      "          yes     3386\n",
      "dtype: int64 \n",
      "\n",
      "poutcome  y  \n",
      "failure   no     87.390329\n",
      "          yes    12.609671\n",
      "other     no     83.315217\n",
      "          yes    16.684783\n",
      "success   no     35.274653\n",
      "          yes    64.725347\n",
      "unknown   no     90.838497\n",
      "          yes     9.161503\n",
      "dtype: float64\n"
     ]
    }
   ],
   "source": [
    "dataset_pout = dataset_total.groupby(['poutcome', 'y']).size()\n",
    "pct_pout = dataset_pout.groupby(level = 0).apply(lambda x: x * 100 / float(x.sum()))\n",
    "print(dataset_pout, '\\n')\n",
    "print(pct_pout)"
   ]
  },
  {
   "cell_type": "markdown",
   "metadata": {},
   "source": [
    "Como é possível ver, das pessoas que não aderiram a campanhas anteriores (failure), 87,39% voltaram a rejeitar o produto oferecido atualmente (no). No caso das pessoas que aderiram a campanhas anteriores (success), 64,72% voltou a aderir à campanha atual (yes). Assim, é possível ver uma tendência de que as pessoas que já aceitaram produtos anteriormente aceitem novamente um novo produto, enquanto as pessoas que rejeitaram o produto anterior provavelmente rejeitarão o novo produto. Porém, há dois outros valores para poutcome, \"other\" e \"unknown\"."
   ]
  },
  {
   "cell_type": "code",
   "execution_count": 30,
   "metadata": {},
   "outputs": [
    {
     "name": "stdout",
     "output_type": "stream",
     "text": [
      "poutcome  y  \n",
      "failure   no     10.728420\n",
      "          yes    11.684628\n",
      "other     no      3.839988\n",
      "          yes     5.804500\n",
      "success   no      1.335103\n",
      "          yes    18.491208\n",
      "unknown   no     84.096488\n",
      "          yes    64.019663\n",
      "dtype: float64\n"
     ]
    }
   ],
   "source": [
    "dataset_pout = dataset_total.groupby(['poutcome', 'y']).size()\n",
    "pct_pout = dataset_pout.groupby(level = 1).apply(lambda x: x * 100 / float(x.sum()))\n",
    "print(pct_pout)"
   ]
  },
  {
   "cell_type": "markdown",
   "metadata": {},
   "source": [
    "Analisando a tabela acima, vemos que não há informação (unknown + other) para 87,93% das pessoas que não aceitaram (no) o produto oferecido atualmente, enquanto para as pessoas que aceitaram os serviço (yes), esse número é de 69,82%. Assim, é possível que esses dados desconhecidos possam alterar a conclusão obtida anteriormente."
   ]
  }
 ],
 "metadata": {
  "kernelspec": {
   "display_name": "Python 3",
   "language": "python",
   "name": "python3"
  },
  "language_info": {
   "codemirror_mode": {
    "name": "ipython",
    "version": 3
   },
   "file_extension": ".py",
   "mimetype": "text/x-python",
   "name": "python",
   "nbconvert_exporter": "python",
   "pygments_lexer": "ipython3",
   "version": "3.6.4"
  }
 },
 "nbformat": 4,
 "nbformat_minor": 2
}
