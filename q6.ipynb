{
 "cells": [
  {
   "cell_type": "markdown",
   "metadata": {},
   "source": [
    "6. Quais são as características mais proeminentes de um cliente que possua\n",
    "empréstimo imobiliário?"
   ]
  },
  {
   "cell_type": "code",
   "execution_count": 1,
   "metadata": {},
   "outputs": [],
   "source": [
    "import pandas as pd\n",
    "dataset_total = pd.read_csv('bank-full.csv', sep = ';')"
   ]
  },
  {
   "cell_type": "code",
   "execution_count": 3,
   "metadata": {},
   "outputs": [],
   "source": [
    "dataset_housing = dataset_total[dataset_total.housing == 'yes']"
   ]
  },
  {
   "cell_type": "code",
   "execution_count": 5,
   "metadata": {},
   "outputs": [
    {
     "data": {
      "text/html": [
       "<div>\n",
       "<style scoped>\n",
       "    .dataframe tbody tr th:only-of-type {\n",
       "        vertical-align: middle;\n",
       "    }\n",
       "\n",
       "    .dataframe tbody tr th {\n",
       "        vertical-align: top;\n",
       "    }\n",
       "\n",
       "    .dataframe thead th {\n",
       "        text-align: right;\n",
       "    }\n",
       "</style>\n",
       "<table border=\"1\" class=\"dataframe\">\n",
       "  <thead>\n",
       "    <tr style=\"text-align: right;\">\n",
       "      <th></th>\n",
       "      <th>age</th>\n",
       "      <th>balance</th>\n",
       "      <th>day</th>\n",
       "      <th>duration</th>\n",
       "      <th>campaign</th>\n",
       "      <th>pdays</th>\n",
       "      <th>previous</th>\n",
       "    </tr>\n",
       "  </thead>\n",
       "  <tbody>\n",
       "    <tr>\n",
       "      <th>count</th>\n",
       "      <td>25130.000000</td>\n",
       "      <td>25130.000000</td>\n",
       "      <td>25130.000000</td>\n",
       "      <td>25130.000000</td>\n",
       "      <td>25130.000000</td>\n",
       "      <td>25130.000000</td>\n",
       "      <td>25130.000000</td>\n",
       "    </tr>\n",
       "    <tr>\n",
       "      <th>mean</th>\n",
       "      <td>39.175288</td>\n",
       "      <td>1175.103064</td>\n",
       "      <td>15.598249</td>\n",
       "      <td>259.331476</td>\n",
       "      <td>2.698488</td>\n",
       "      <td>51.312495</td>\n",
       "      <td>0.656665</td>\n",
       "    </tr>\n",
       "    <tr>\n",
       "      <th>std</th>\n",
       "      <td>8.926807</td>\n",
       "      <td>2483.285761</td>\n",
       "      <td>8.026836</td>\n",
       "      <td>258.321907</td>\n",
       "      <td>3.140979</td>\n",
       "      <td>113.862848</td>\n",
       "      <td>2.707428</td>\n",
       "    </tr>\n",
       "    <tr>\n",
       "      <th>min</th>\n",
       "      <td>20.000000</td>\n",
       "      <td>-4057.000000</td>\n",
       "      <td>1.000000</td>\n",
       "      <td>0.000000</td>\n",
       "      <td>1.000000</td>\n",
       "      <td>-1.000000</td>\n",
       "      <td>0.000000</td>\n",
       "    </tr>\n",
       "    <tr>\n",
       "      <th>25%</th>\n",
       "      <td>32.000000</td>\n",
       "      <td>62.000000</td>\n",
       "      <td>8.000000</td>\n",
       "      <td>103.000000</td>\n",
       "      <td>1.000000</td>\n",
       "      <td>-1.000000</td>\n",
       "      <td>0.000000</td>\n",
       "    </tr>\n",
       "    <tr>\n",
       "      <th>50%</th>\n",
       "      <td>38.000000</td>\n",
       "      <td>412.000000</td>\n",
       "      <td>15.000000</td>\n",
       "      <td>182.000000</td>\n",
       "      <td>2.000000</td>\n",
       "      <td>-1.000000</td>\n",
       "      <td>0.000000</td>\n",
       "    </tr>\n",
       "    <tr>\n",
       "      <th>75%</th>\n",
       "      <td>45.000000</td>\n",
       "      <td>1257.750000</td>\n",
       "      <td>21.000000</td>\n",
       "      <td>318.000000</td>\n",
       "      <td>3.000000</td>\n",
       "      <td>-1.000000</td>\n",
       "      <td>0.000000</td>\n",
       "    </tr>\n",
       "    <tr>\n",
       "      <th>max</th>\n",
       "      <td>78.000000</td>\n",
       "      <td>58544.000000</td>\n",
       "      <td>31.000000</td>\n",
       "      <td>4918.000000</td>\n",
       "      <td>63.000000</td>\n",
       "      <td>854.000000</td>\n",
       "      <td>275.000000</td>\n",
       "    </tr>\n",
       "  </tbody>\n",
       "</table>\n",
       "</div>"
      ],
      "text/plain": [
       "                age       balance           day      duration      campaign  \\\n",
       "count  25130.000000  25130.000000  25130.000000  25130.000000  25130.000000   \n",
       "mean      39.175288   1175.103064     15.598249    259.331476      2.698488   \n",
       "std        8.926807   2483.285761      8.026836    258.321907      3.140979   \n",
       "min       20.000000  -4057.000000      1.000000      0.000000      1.000000   \n",
       "25%       32.000000     62.000000      8.000000    103.000000      1.000000   \n",
       "50%       38.000000    412.000000     15.000000    182.000000      2.000000   \n",
       "75%       45.000000   1257.750000     21.000000    318.000000      3.000000   \n",
       "max       78.000000  58544.000000     31.000000   4918.000000     63.000000   \n",
       "\n",
       "              pdays      previous  \n",
       "count  25130.000000  25130.000000  \n",
       "mean      51.312495      0.656665  \n",
       "std      113.862848      2.707428  \n",
       "min       -1.000000      0.000000  \n",
       "25%       -1.000000      0.000000  \n",
       "50%       -1.000000      0.000000  \n",
       "75%       -1.000000      0.000000  \n",
       "max      854.000000    275.000000  "
      ]
     },
     "execution_count": 5,
     "metadata": {},
     "output_type": "execute_result"
    }
   ],
   "source": [
    "dataset_housing.describe()"
   ]
  },
  {
   "cell_type": "code",
   "execution_count": 8,
   "metadata": {},
   "outputs": [
    {
     "name": "stdout",
     "output_type": "stream",
     "text": [
      "marital\n",
      "divorced     2907\n",
      "married     15321\n",
      "single       6902\n",
      "dtype: int64\n"
     ]
    }
   ],
   "source": [
    "data_hous_mari = dataset_housing.groupby('marital').size()\n",
    "print(data_hous_mari)"
   ]
  },
  {
   "cell_type": "code",
   "execution_count": 10,
   "metadata": {},
   "outputs": [
    {
     "name": "stdout",
     "output_type": "stream",
     "text": [
      "job\n",
      "admin.           3182\n",
      "blue-collar      7048\n",
      "entrepreneur      869\n",
      "housemaid         398\n",
      "management       4678\n",
      "retired           491\n",
      "self-employed     765\n",
      "services         2766\n",
      "student           249\n",
      "technician       4115\n",
      "unemployed        543\n",
      "unknown            26\n",
      "dtype: int64\n"
     ]
    }
   ],
   "source": [
    "data_hous_job = dataset_housing.groupby('job').size()\n",
    "print(data_hous_job)"
   ]
  },
  {
   "cell_type": "code",
   "execution_count": 9,
   "metadata": {},
   "outputs": [
    {
     "name": "stdout",
     "output_type": "stream",
     "text": [
      "education\n",
      "primary       3894\n",
      "secondary    14038\n",
      "tertiary      6378\n",
      "unknown        820\n",
      "dtype: int64\n"
     ]
    }
   ],
   "source": [
    "data_hous_edu = dataset_housing.groupby('education').size()\n",
    "print(data_hous_edu)"
   ]
  }
 ],
 "metadata": {
  "kernelspec": {
   "display_name": "Python 3",
   "language": "python",
   "name": "python3"
  },
  "language_info": {
   "codemirror_mode": {
    "name": "ipython",
    "version": 3
   },
   "file_extension": ".py",
   "mimetype": "text/x-python",
   "name": "python",
   "nbconvert_exporter": "python",
   "pygments_lexer": "ipython3",
   "version": "3.6.4"
  }
 },
 "nbformat": 4,
 "nbformat_minor": 2
}
